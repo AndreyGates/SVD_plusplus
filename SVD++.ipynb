{
 "cells": [
  {
   "cell_type": "markdown",
   "id": "afc38527-7523-4f6b-91aa-0a80419d7a5d",
   "metadata": {},
   "source": [
    "## Singular Value Decomposition with implicit feedback (SVD++)"
   ]
  },
  {
   "cell_type": "markdown",
   "id": "770434db-200b-49f4-bc62-0aab64a33fb9",
   "metadata": {},
   "source": [
    "В работе Factorization Meets the Neighborhood описывается новая модификация SVD модели. Но для начала поговорим про явный и неявный отклик от пользователя (explicit and implicit user feedback). Если по итогу взаимодействия между пользователем и товаром мы знаем оценку $r_{ui}$, то это считается явным откликом. В противном случае мы знаем лишь об их взаимодействии и это неявный. Авторы статьи ассоциируют каждого пользователя с двумя группами товаров: $R(u)$ — множество товаров с явным откликом (рейтинги которых мы знаем) и $N(u)$ — множество товаров с неявным откликом (знаем лишь о наличии взаимодействия).\n",
    "\n",
    "\n",
    "Метод SVD++ использует неявный отклик и в результате модель выглядит следующим образом:\n",
    "\n",
    "\n",
    "$\\hat{r}_{ui} =\\mu + b_u + b_i + q^T_i \\left( p_u + |N(u)|^{-1/2} \\sum_{j \\in N(u)} y_j \\right) .$\n",
    "\n",
    "\n",
    "В этом случае параметрами обучения будут:\n",
    "\n",
    "\n",
    "$\\Theta = \\{ \\mu, b_u, b_i, p_u, q_i, y_i| u \\in U, i \\in I\\} .$"
   ]
  },
  {
   "cell_type": "markdown",
   "id": "97589bc0-ae68-4e22-adb5-900bade0b6cf",
   "metadata": {},
   "source": [
    "Поскольку неявный отклик иногда бывает недоступным, множество $N(u)$ можно заменить на $R(u)$, т.к. всегда выполняется $R(u) \\subset N(u)$. А добавку данного метода можно расценивать как рекомендации товара к товару (item-item recommendation)."
   ]
  },
  {
   "cell_type": "code",
   "execution_count": 103,
   "id": "8ed64664-a32a-4d7b-a3c5-271edf4c684b",
   "metadata": {},
   "outputs": [],
   "source": [
    "def svdpp():\n",
    "    for epoch in range(epochs):\n",
    "        for user in range(num_users):\n",
    "            for item in range(num_items):\n",
    "                # activation\n",
    "                p_i = p[user, :]\n",
    "                q_j = q[:,item]\n",
    "                y_j = y[:, item]\n",
    "                \n",
    "                user_item_list = [i for i, e in enumerate(r[user,:]) if e != 0] # R_u (item indices which a user interacted with)\n",
    "                sum_y_j = np.sum(y[:,user_item_list],axis=1) # to make sum of y_i\n",
    "                r_hat[user,item] = bu[user, item] + bi[user, item] + mu[user, item] + \\\n",
    "                                   np.dot(np.transpose(q_j), p[user, :] + pow(len(user_item_list), -0.5)*sum_y_j)\n",
    "\n",
    "                # descent\n",
    "                e = r[user, item] - r_hat[user, item]\n",
    "\n",
    "                p[user]   += 2*alpha*(e*q_j - lambda_1*p_i)\n",
    "                q[:,item] += 2*alpha*(e*(p_i + pow(len(user_item_list), -0.5)*sum_y_j) - lambda_1*q_j)\n",
    "                y[:, item]+= 2*alpha*(e*(pow(len(user_item_list), -0.5)*q_j - lambda_1*y_j))\n",
    "\n",
    "                bu[user, item] += 2*beta*(e - lambda_2*bu[user, item])\n",
    "                bi[user, item] += 2*beta*(e - lambda_2*bi[user, item])\n",
    "                mu[user, item] += 2*beta*(e - lambda_2*mu[user, item])\n",
    "            \n",
    "    return r_hat"
   ]
  },
  {
   "cell_type": "code",
   "execution_count": 107,
   "id": "f81ccb23-feb7-4c24-9777-e5ff4c2a0d69",
   "metadata": {},
   "outputs": [
    {
     "name": "stdout",
     "output_type": "stream",
     "text": [
      "[[1 1 1 1 1]\n",
      " [0 0 0 1 0]\n",
      " [1 1 0 0 1]]\n",
      "[[ 9.99937088e-01  9.99549499e-01  9.99197410e-01  9.98193918e-01\n",
      "   1.00017961e+00]\n",
      " [ 1.03833675e-04  1.25594326e-04  1.14350364e-04  1.00002456e+00\n",
      "   3.23635132e-04]\n",
      " [ 1.00002283e+00  9.99593595e-01 -5.03802444e-04 -1.60011119e-03\n",
      "   1.00027827e+00]]\n"
     ]
    }
   ],
   "source": [
    "import numpy as np\n",
    "\n",
    "num_users = 3\n",
    "num_items = 5\n",
    "\n",
    "# hyperparameters\n",
    "latent_dim = 2\n",
    "alpha = 0.01\n",
    "beta = 0.01\n",
    "\n",
    "# regularization\n",
    "lambda_1 = 0.001\n",
    "lambda_2 = 0.001\n",
    "\n",
    "epochs = 1000\n",
    "\n",
    "prob = 0.4\n",
    "r = np.random.binomial(1, 1 - prob,(num_users, num_items))\n",
    "r_hat = np.zeros([num_users,num_items])\n",
    "print(r)\n",
    "\n",
    "p = np.random.randn(num_users,latent_dim)\n",
    "q = np.random.randn(latent_dim,num_items)\n",
    "y = np.random.randn(latent_dim,num_items)\n",
    "\n",
    "# Bias matrices\n",
    "bu = np.random.randn(1,num_users).repeat(num_items, axis=0).transpose()\n",
    "bi = np.random.randn(1,num_items).repeat(num_users, axis=0)\n",
    "mu = np.random.randn(num_users,num_items)\n",
    "\n",
    "# Gradient descent \n",
    "r_hat = svdpp()\n",
    "\n",
    "print(r_hat)"
   ]
  },
  {
   "cell_type": "code",
   "execution_count": null,
   "id": "55ddbfea-cbbe-47a2-84b2-52c5fe6b0b00",
   "metadata": {},
   "outputs": [],
   "source": []
  }
 ],
 "metadata": {
  "kernelspec": {
   "display_name": "Python 3 (ipykernel)",
   "language": "python",
   "name": "python3"
  },
  "language_info": {
   "codemirror_mode": {
    "name": "ipython",
    "version": 3
   },
   "file_extension": ".py",
   "mimetype": "text/x-python",
   "name": "python",
   "nbconvert_exporter": "python",
   "pygments_lexer": "ipython3",
   "version": "3.9.12"
  }
 },
 "nbformat": 4,
 "nbformat_minor": 5
}
